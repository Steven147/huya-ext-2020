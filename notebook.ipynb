{
 "cells": [
  {
   "cell_type": "code",
   "execution_count": 5,
   "metadata": {},
   "outputs": [],
   "source": [
    "!git add ."
   ]
  },
  {
   "cell_type": "code",
   "execution_count": 4,
   "metadata": {},
   "outputs": [
    {
     "name": "stdout",
     "output_type": "stream",
     "text": [
      "On branch master\r\n",
      "Your branch is ahead of 'origin/master' by 1 commit.\r\n",
      "  (use \"git push\" to publish your local commits)\r\n",
      "Changes not staged for commit:\r\n",
      "\t\u001b[31mmodified:   notebook.ipynb\u001b[m\r\n",
      "\r\n",
      "no changes added to commit\r\n"
     ]
    }
   ],
   "source": [
    "!git commit -m 'notebook 文件'"
   ]
  },
  {
   "cell_type": "markdown",
   "metadata": {},
   "source": [
    "[自然语言处理 情感分析 - API 文档 - 文档中心 - 腾讯云](https://cloud.tencent.com/document/product/271/35497)\n",
    "\n",
    "[Python - SDK 中心 - 腾讯云](https://cloud.tencent.com/document/sdk/Python)"
   ]
  },
  {
   "cell_type": "code",
   "execution_count": null,
   "metadata": {},
   "outputs": [],
   "source": []
  },
  {
   "cell_type": "code",
   "execution_count": 7,
   "metadata": {
    "collapsed": true
   },
   "outputs": [
    {
     "name": "stdout",
     "output_type": "stream",
     "text": [
      "Looking in indexes: http://mirrors.tencentyun.com/pypi/simple\n",
      "Requirement already satisfied: tencentcloud-sdk-python in ./miniconda3/envs/env/lib/python3.7/site-packages (3.0.218)\n",
      "Looking in indexes: http://mirrors.tencentyun.com/pypi/simple\n",
      "Collecting pandas\n",
      "  Downloading http://mirrors.tencentyun.com/pypi/packages/af/f3/683bf2547a3eaeec15b39cef86f61e921b3b187f250fcd2b5c5fb4386369/pandas-1.0.5-cp37-cp37m-manylinux1_x86_64.whl (10.1 MB)\n",
      "\u001b[K     |████████████████████████████████| 10.1 MB 9.7 MB/s eta 0:00:01\n",
      "\u001b[?25hRequirement already satisfied: python-dateutil>=2.6.1 in ./miniconda3/envs/env/lib/python3.7/site-packages (from pandas) (2.8.1)\n",
      "Collecting pytz>=2017.2\n",
      "  Downloading http://mirrors.tencentyun.com/pypi/packages/4f/a4/879454d49688e2fad93e59d7d4efda580b783c745fd2ec2a3adf87b0808d/pytz-2020.1-py2.py3-none-any.whl (510 kB)\n",
      "\u001b[K     |████████████████████████████████| 510 kB 18.2 MB/s eta 0:00:01\n",
      "\u001b[?25hCollecting numpy>=1.13.3\n",
      "  Downloading http://mirrors.tencentyun.com/pypi/packages/a8/31/e2c3eda7afe7dab08e1f24767b8e38ff2f30dc82bd74aa3a5324c550366a/numpy-1.19.0-cp37-cp37m-manylinux2010_x86_64.whl (14.6 MB)\n",
      "\u001b[K     |████████████████████████████████| 14.6 MB 19.8 MB/s eta 0:00:01\n",
      "\u001b[?25hRequirement already satisfied: six>=1.5 in ./miniconda3/envs/env/lib/python3.7/site-packages (from python-dateutil>=2.6.1->pandas) (1.15.0)\n",
      "Installing collected packages: pytz, numpy, pandas\n",
      "Successfully installed numpy-1.19.0 pandas-1.0.5 pytz-2020.1\n"
     ]
    }
   ],
   "source": [
    "!pip install tencentcloud-sdk-python\n",
    "!pip install pandas"
   ]
  },
  {
   "cell_type": "code",
   "execution_count": 1,
   "metadata": {
    "scrolled": true
   },
   "outputs": [
    {
     "name": "stdout",
     "output_type": "stream",
     "text": [
      "巧了我也是\n",
      "来了来了\n",
      "看到标题我就想到隔壁舟游氪二百\n",
      "铲车人，集合\n",
      "热乎的！\n",
      "来了来了\n",
      "高产似那啥\n",
      "热乎\n",
      "已经凉了。。。\n",
      "来来\n",
      "我真的是等不了了呀\n",
      "热乎\n",
      "我真是等不了了啊\n",
      "我真的是等不了了啊\n",
      "我好饿\n",
      "暑假后第一桶\n",
      "有氪二百那味儿了\n",
      "我真的是等不了了呀\n",
      "jj\n",
      "我真的是等不了了呀！！\n",
      "哒哒哒\n",
      "铲车人集合\n",
      "我真的是等不了l 呀！\n",
      "热乎的\n",
      "我真的是等不了了啊\n",
      "meirenma\n",
      "封面离谱\n",
      "青铜破产慢报，大仙什么都不知道\n",
      "我真是是等不了了\n",
      "我真的是等不了了呀\n",
      "铲车人，集合\n",
      "把这个给他看\n",
      "我真的是等不了了呀！\n",
      "我真的是等不了了呀\n",
      "我真的是等不了了\n",
      "青铜破产慢报，小仙什么也不知道\n",
      "就斤斤计较\n",
      "凉透了\n",
      "我真的等不及了了\n",
      "2020中考加油！！！金榜题名\n",
      "哒哒哒哒哒\n",
      "E1\n",
      "有人吗\n",
      "11\n",
      "那些年致命魔术\n",
      "噢噢噢噢\n",
      "芜湖那个是广西得咩\n",
      "妈诶不热乎了\n",
      "我真的受不了了呀\n",
      "2333\n",
      "[{'序号': 1, '内容': '巧了我也是', '情感': 0.80811113, '类别': 1}, {'序号': 2, '内容': '来了来了', '情感': 0.919101, '类别': 1}, {'序号': 3, '内容': '看到标题我就想到隔壁舟游氪二百', '情感': 0.7985693, '类别': 2}, {'序号': 4, '内容': '铲车人，集合', '情感': 0.6212634, '类别': 3}, {'序号': 5, '内容': '热乎的！', '情感': 0.788466, '类别': 4}, {'序号': 6, '内容': '来了来了', '情感': 0.919101, '类别': 1}, {'序号': 7, '内容': '高产似那啥', '情感': 0.40738502, '类别': 5}, {'序号': 8, '内容': '热乎', '情感': 0.788466, '类别': 4}, {'序号': 9, '内容': '已经凉了。。。', '情感': 0.28133315, '类别': 4}, {'序号': 10, '内容': '来来', '情感': 0.94970345, '类别': 6}, {'序号': 11, '内容': '我真的是等不了了呀', '情感': 0.02356112, '类别': 7}, {'序号': 12, '内容': '热乎', '情感': 0.788466, '类别': 4}, {'序号': 13, '内容': '我真是等不了了啊', '情感': 0.022163022, '类别': 8}, {'序号': 14, '内容': '我真的是等不了了啊', '情感': 0.01989891, '类别': 9}, {'序号': 15, '内容': '我好饿', '情感': 0.46123147, '类别': 10}, {'序号': 16, '内容': '暑假后第一桶', '情感': 0.29802212, '类别': 11}, {'序号': 17, '内容': '有氪二百那味儿了', '情感': 0.943034, '类别': 12}, {'序号': 18, '内容': '我真的是等不了了呀', '情感': 0.02356112, '类别': 8}, {'序号': 19, '内容': 'jj', '情感': 0.9463512, '类别': 1}, {'序号': 20, '内容': '我真的是等不了了呀！！', '情感': 0.02356112, '类别': 8}]\n"
     ]
    }
   ],
   "source": [
    "!python func.py"
   ]
  },
  {
   "cell_type": "code",
   "execution_count": null,
   "metadata": {},
   "outputs": [],
   "source": []
  }
 ],
 "metadata": {
  "kernelspec": {
   "display_name": "Python 3",
   "language": "python",
   "name": "python3"
  },
  "language_info": {
   "codemirror_mode": {
    "name": "ipython",
    "version": 3
   },
   "file_extension": ".py",
   "mimetype": "text/x-python",
   "name": "python",
   "nbconvert_exporter": "python",
   "pygments_lexer": "ipython3",
   "version": "3.7.0"
  }
 },
 "nbformat": 4,
 "nbformat_minor": 4
}
